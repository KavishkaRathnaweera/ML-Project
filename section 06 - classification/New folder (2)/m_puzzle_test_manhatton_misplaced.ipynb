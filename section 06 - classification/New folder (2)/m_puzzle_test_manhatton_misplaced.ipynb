{
 "cells": [
  {
   "cell_type": "code",
   "execution_count": 161,
   "id": "47e137b5",
   "metadata": {},
   "outputs": [],
   "source": [
    "import math\n",
    "import time\n",
    "import numpy as np\n",
    "import matplotlib.pyplot as plt\n",
    "import seaborn as sns"
   ]
  },
  {
   "cell_type": "code",
   "execution_count": 120,
   "id": "8cbed1d9",
   "metadata": {},
   "outputs": [
    {
     "name": "stdout",
     "output_type": "stream",
     "text": [
      "Enter start file relative path : Start.txt\n",
      "Enter goal file relative path : Goal.txt\n"
     ]
    }
   ],
   "source": [
    "class Node:\n",
    "    \n",
    "    def __init__(self,state,gCost,fCost,tile_value,direction,parent):\n",
    "        #create object of the node\n",
    "        self.state = state\n",
    "        self.gCost = gCost\n",
    "        self.fCost = fCost\n",
    "        self.direction = direction\n",
    "        self.tile_value = tile_value\n",
    "        self.parent = parent\n",
    "    \n",
    "    def expand_node(self):\n",
    "        \n",
    "        dash= self.find_positions_of_dash()\n",
    "        x1,y1,x2,y2 = dash[0][0],dash[0][1],dash[1][0],dash[1][1]\n",
    "        plist1 = [[x1,y1-1],[x1,y1+1],[x1-1,y1],[x1+1,y1]]\n",
    "        plist2 = [[x2,y2-1],[x2,y2+1],[x2-1,y2],[x2+1,y2]]\n",
    "        expanded_states=[]\n",
    "        moves = []\n",
    "        for i in range(4):\n",
    "            successor1 = self.swap_tile_dash(x1,y1,x2,y2,plist1[i][0],plist1[i][1])\n",
    "            successor2 = self.swap_tile_dash(x2,y2,x1,y1,plist2[i][0],plist2[i][1])\n",
    "            if(successor1 is not None):\n",
    "#                 moves.append(successor1[1:])\n",
    "                next_node = Node(successor1[0],0,0,successor1[1],successor1[2],self)\n",
    "                expanded_states.append(next_node)\n",
    "            if(successor2 is not None):\n",
    "#                 moves.append(successor2[1:])\n",
    "                next_node = Node(successor2[0],0,0,successor2[1],successor2[2],self)\n",
    "                expanded_states.append(next_node)\n",
    "        return expanded_states\n",
    "    \n",
    "    def find_positions_of_dash(self):\n",
    "        dash_positions = []\n",
    "        for i in range(len(self.state)):\n",
    "            for j in range(len(self.state)):\n",
    "                if(self.state[i][j] == '-'):\n",
    "                    dash_positions.append([i,j])\n",
    "        return dash_positions\n",
    "    \n",
    "    def swap_tile_dash(self,dash_i,dash_j,dash_x,dash_y,x,y):\n",
    "        if(x>=0 and x<len(self.state) and y>=0 and y<len(self.state) and not (dash_x==x and dash_y==y) ):\n",
    "            current_state = self.copy_list(self.state)\n",
    "            value = current_state[x][y]\n",
    "            current_state[x][y] = current_state[dash_i][dash_j]\n",
    "            current_state[dash_i][dash_j] = value\n",
    "            return [current_state,value,self.find_direction(dash_i,dash_j,x,y)]\n",
    "        else:\n",
    "            return None\n",
    "        \n",
    "    def find_direction(self,dash_i,dash_j,x,y):\n",
    "        direction = \"\"\n",
    "        if(dash_i==x):\n",
    "            if(dash_j>y):\n",
    "                direction=\"Right\"\n",
    "            else:\n",
    "                direction = \"Left\"\n",
    "        else:\n",
    "            if(dash_i>x):\n",
    "                direction=\"Down\"\n",
    "            else:\n",
    "                direction=\"Up\"\n",
    "        return direction\n",
    "    \n",
    "    def copy_list(self,list_input):\n",
    "        out = []\n",
    "        for i in list_input:\n",
    "            t = []\n",
    "            for j in i:\n",
    "                t.append(j)\n",
    "            out.append(t)\n",
    "        return out  \n",
    "            \n",
    "            \n",
    "            \n",
    "class N_Puzzle:\n",
    "    def __init__(self,heuristic):\n",
    "        self.size_n = 0\n",
    "        self.OPEN = []\n",
    "        self.CLOSED = []\n",
    "        self.heuristic = heuristic\n",
    "    \n",
    "    def calculate_f(self,start,goal):\n",
    "        return self.calculate_h(start.state,goal)+start.gCost\n",
    "    \n",
    "    def calculate_h(self,start,goal):\n",
    "        if(self.heuristic == \"Misplaced\"):\n",
    "            total_misplaced = 0\n",
    "            for i in range(0,self.size_n):\n",
    "                for j in range(0,self.size_n):\n",
    "                    if start[i][j] != goal[i][j] and start[i][j] != '-':\n",
    "                        total_misplaced += 1\n",
    "            return total_misplaced\n",
    "        elif(self.heuristic == \"Manhatton\"):\n",
    "            total_distance = 0\n",
    "            start_conf=[i for row in start for i in row ]\n",
    "            goal_conf=[i for row in goal for i in row ]\n",
    "            n = self.size_n\n",
    "            for t in range(len(start_conf)):\n",
    "                if(start_conf[t]!='-'):\n",
    "                    g_index = goal_conf.index(start_conf[t])\n",
    "                    total_distance += abs(g_index//n - t//n) + abs(g_index%n - t%n)  \n",
    "            return total_distance\n",
    "        \n",
    "    def get_move_sequence(self,goal_node):\n",
    "        moves=[]\n",
    "        while(goal_node.parent!=None):\n",
    "            moves.append([goal_node.tile_value,goal_node.direction])\n",
    "            goal_node = goal_node.parent\n",
    "        moves.reverse()\n",
    "        move_seq=\", \".join([\"(\"+\",\".join(move)+\")\" for move in moves])\n",
    "        return [move_seq,len(moves)]\n",
    "    \n",
    "    def A_star_algorithm(self,start,goal):\n",
    "        \n",
    "        start_list= start\n",
    "        goal_list = goal\n",
    "        \n",
    "        self.size_n = len(start_list)\n",
    "        \n",
    "        if(len(start_list)==0 or start_list==None):\n",
    "            return False\n",
    "        \n",
    "        start_node = Node(start_list,0,0, None,None,None)\n",
    "        start_node.fCost = self.calculate_f(start_node,goal_list)\n",
    "        self.OPEN.append(start_node)\n",
    "        \n",
    "        if(start_node.state == goal_list):\n",
    "            return [start_node.fCost,0]\n",
    "        \n",
    "        output = None;\n",
    "        number_of_counts = 0\n",
    "        while(True):\n",
    "            if(len(self.OPEN)==0):\n",
    "                output=\"False\"\n",
    "                break\n",
    "            current_state = self.OPEN[0]\n",
    "            number_of_counts +=1\n",
    "            \n",
    "            if(self.calculate_h(current_state.state,goal_list) == 0):\n",
    "                output = [self.get_move_sequence(current_state),number_of_counts]\n",
    "                break\n",
    "                \n",
    "            childs_moves = current_state.expand_node()\n",
    "            for child in childs_moves:\n",
    "                nodes = []\n",
    "                nodes.extend(self.OPEN)\n",
    "                nodes.extend(self.CLOSED)\n",
    "                node_state_list = [node.state for node in nodes]\n",
    "                closed_node = [node.state for node in self.CLOSED]\n",
    "                if(child.state not in node_state_list):\n",
    "                    child.gCost = current_state.gCost + 1\n",
    "                    child.fCost = self.calculate_f(child,goal_list)\n",
    "                    self.OPEN.append(child)\n",
    "                else:\n",
    "                    child.gCost = min(child.gCost,current_state.gCost + 1)\n",
    "                    prev_fCost = child.fCost\n",
    "                    child.fCost = self.calculate_f(child,goal_list)\n",
    "                    if(prev_fCost> child.fCost and (child.state in closed_node)):\n",
    "                        self.OPEN.append(child)\n",
    "                        del self.CLOSED[closed_node.index(child.state)]\n",
    "                        \n",
    "            del self.OPEN[0]\n",
    "            self.CLOSED.append(current_state)\n",
    "            self.OPEN.sort(key = lambda x:x.fCost,reverse=False)\n",
    "            \n",
    "        return output\n",
    "\n",
    "\n",
    "if __name__==\"__main__\":\n",
    "    startFilepath = input('Enter start file relative path : ') # Start.txt\n",
    "    goalFilepath = input('Enter goal file relative path : ')\n",
    "    startFile = open(startFilepath,\"r\")\n",
    "    goalFile = open(goalFilepath,\"r\")\n",
    "    start_list= [list(row.strip('\\n').split('\\t')) for row in startFile]\n",
    "    goal_list = [list(row.strip('\\n').split('\\t')) for row in goalFile]\n",
    "\n",
    "    startFile.close()\n",
    "    goalFile.close()\n",
    "\n",
    "    puzzle_test_Manhatton = N_Puzzle(\"Manhatton\")\n",
    "    move_sequence_manhatton = puzzle_test_Manhatton.A_star_algorithm(start_list,goal_list)\n",
    "    output_conf_file=open(\"Output_sequence_manhatton.txt\",\"w\")\n",
    "    output_conf_file.write(move_sequence_manhatton[0][0])\n",
    "    output_conf_file.close() \n",
    "    \n",
    "    puzzle_test_Misplaced = N_Puzzle(\"Misplaced\")\n",
    "    move_sequence_Misplaced = puzzle_test_Misplaced.A_star_algorithm(start_list,goal_list)\n",
    "    output_conf_file=open(\"Output_sequence_misplaced.txt\",\"w\")\n",
    "    output_conf_file.write(move_sequence_Misplaced[0][0])\n",
    "    output_conf_file.close() "
   ]
  },
  {
   "cell_type": "code",
   "execution_count": 142,
   "id": "a43bc685",
   "metadata": {},
   "outputs": [],
   "source": [
    "test_cases=[]\n",
    "manhattan_moves = []\n",
    "misplaced_moves = []\n",
    "\n",
    "def get_test_cases(TEST_CASE_FILE_NAME):\n",
    "    test_case_file=open(TEST_CASE_FILE_NAME,'r')\n",
    "    line = test_case_file.readline()\n",
    "    while line!='':\n",
    "        if( ',' in line):\n",
    "            start=[]\n",
    "            goal=[]\n",
    "            size=list(map(int,line.split(\",\")))[0]\n",
    "            for i in range(0,size):\n",
    "                line = test_case_file.readline()\n",
    "                start.append(line.split())\n",
    "            for i in range(0,size):\n",
    "                line = test_case_file.readline()\n",
    "                goal.append(line.split())\n",
    "            test_cases.append([start,goal])\n",
    "        line = test_case_file.readline()\n",
    "        \n",
    "#     print(test_cases)\n",
    "\n",
    "def calculate_num_moves():\n",
    "    for i in range(0,len(test_cases)):\n",
    "        puzzle_test_Manhatton = N_Puzzle(\"Manhatton\")\n",
    "        man_output= puzzle_test_Manhatton.A_star_algorithm(test_cases[i][0],test_cases[i][1])\n",
    "        manhattan_moves.append(man_output[1])\n",
    "        print(\"man\",man_output[1])\n",
    "        puzzle_test_Misplaced = N_Puzzle(\"Misplaced\")\n",
    "        miss_output = puzzle_test_Misplaced.A_star_algorithm(test_cases[i][0],test_cases[i][1])\n",
    "        misplaced_moves.append(miss_output[1])\n",
    "        print(\"miss\",miss_output[1])\n",
    "    print(manhattan_moves)\n",
    "    print(misplaced_moves)\n",
    "    \n"
   ]
  },
  {
   "cell_type": "code",
   "execution_count": 143,
   "id": "88dcebc8",
   "metadata": {},
   "outputs": [
    {
     "name": "stdout",
     "output_type": "stream",
     "text": [
      "man 12\n",
      "miss 12\n",
      "man 10\n",
      "miss 10\n",
      "man 9\n",
      "miss 9\n",
      "man 36\n",
      "miss 71\n",
      "man 8\n",
      "miss 8\n",
      "man 6\n",
      "miss 6\n",
      "man 6\n",
      "miss 6\n",
      "man 21\n",
      "miss 21\n",
      "man 10\n",
      "miss 10\n",
      "man 77\n",
      "miss 99\n",
      "man 8\n",
      "miss 8\n",
      "man 10\n",
      "miss 12\n",
      "man 6\n",
      "miss 6\n",
      "man 30\n",
      "miss 30\n",
      "man 25\n",
      "miss 25\n",
      "man 6\n",
      "miss 6\n",
      "man 3\n",
      "miss 3\n",
      "man 12\n",
      "miss 12\n",
      "man 21\n",
      "miss 33\n",
      "man 3\n",
      "miss 3\n",
      "man 36\n",
      "miss 36\n",
      "man 12\n",
      "miss 12\n",
      "man 6\n",
      "miss 6\n",
      "man 3\n",
      "miss 3\n",
      "man 6\n",
      "miss 6\n",
      "man 40\n",
      "miss 40\n",
      "man 12\n",
      "miss 12\n",
      "man 5\n",
      "miss 5\n",
      "man 16\n",
      "miss 16\n",
      "man 4\n",
      "miss 4\n",
      "man 16\n",
      "miss 16\n",
      "man 16\n",
      "miss 18\n",
      "man 6\n",
      "miss 6\n",
      "man 8\n",
      "miss 8\n",
      "man 4\n",
      "miss 4\n",
      "man 12\n",
      "miss 12\n",
      "man 9\n",
      "miss 9\n",
      "man 16\n",
      "miss 16\n",
      "man 12\n",
      "miss 12\n",
      "man 446\n",
      "miss 1237\n",
      "man 25\n",
      "miss 25\n",
      "man 73\n",
      "miss 217\n",
      "man 8\n",
      "miss 8\n",
      "man 8\n",
      "miss 8\n",
      "man 12\n",
      "miss 12\n",
      "man 12\n",
      "miss 28\n",
      "man 35\n",
      "miss 35\n",
      "man 18\n",
      "miss 37\n",
      "man 9\n",
      "miss 9\n",
      "man 20\n",
      "miss 82\n",
      "man 20\n",
      "miss 20\n",
      "man 20\n",
      "miss 20\n",
      "man 30\n",
      "miss 30\n",
      "man 14\n",
      "miss 14\n",
      "man 12\n",
      "miss 12\n",
      "man 9\n",
      "miss 9\n",
      "man 28\n",
      "miss 44\n",
      "man 24\n",
      "miss 24\n",
      "man 21\n",
      "miss 24\n",
      "man 9\n",
      "miss 9\n",
      "man 20\n",
      "miss 20\n",
      "man 12\n",
      "miss 12\n",
      "man 6\n",
      "miss 6\n",
      "man 134\n",
      "miss 664\n",
      "man 6\n",
      "miss 6\n",
      "man 18\n",
      "miss 18\n",
      "man 6\n",
      "miss 6\n",
      "man 42\n",
      "miss 42\n",
      "man 75\n",
      "miss 363\n",
      "man 16\n",
      "miss 16\n",
      "man 8\n",
      "miss 8\n",
      "man 8\n",
      "miss 8\n",
      "man 4\n",
      "miss 4\n",
      "man 21\n",
      "miss 21\n",
      "man 62\n",
      "miss 77\n",
      "man 2\n",
      "miss 2\n",
      "man 16\n",
      "miss 16\n",
      "man 16\n",
      "miss 16\n",
      "man 5\n",
      "miss 5\n",
      "man 27\n",
      "miss 64\n",
      "man 49\n",
      "miss 49\n",
      "man 14\n",
      "miss 14\n",
      "man 6\n",
      "miss 6\n",
      "man 20\n",
      "miss 20\n",
      "man 4\n",
      "miss 4\n",
      "man 6\n",
      "miss 6\n",
      "man 20\n",
      "miss 24\n",
      "man 24\n",
      "miss 24\n",
      "man 27\n",
      "miss 103\n",
      "man 20\n",
      "miss 20\n",
      "man 18\n",
      "miss 18\n",
      "man 12\n",
      "miss 12\n",
      "man 12\n",
      "miss 12\n",
      "man 2\n",
      "miss 2\n",
      "man 12\n",
      "miss 12\n",
      "man 20\n",
      "miss 20\n",
      "man 10\n",
      "miss 10\n",
      "man 14\n",
      "miss 14\n",
      "man 8\n",
      "miss 8\n",
      "man 3\n",
      "miss 3\n",
      "[12, 10, 9, 36, 8, 6, 6, 21, 10, 77, 8, 10, 6, 30, 25, 6, 3, 12, 21, 3, 36, 12, 6, 3, 6, 40, 12, 5, 16, 4, 16, 16, 6, 8, 4, 12, 9, 16, 12, 446, 25, 73, 8, 8, 12, 12, 35, 18, 9, 20, 20, 20, 30, 14, 12, 9, 28, 24, 21, 9, 20, 12, 6, 134, 6, 18, 6, 42, 75, 16, 8, 8, 4, 21, 62, 2, 16, 16, 5, 27, 49, 14, 6, 20, 4, 6, 20, 24, 27, 20, 18, 12, 12, 2, 12, 20, 10, 14, 8, 3]\n",
      "[12, 10, 9, 71, 8, 6, 6, 21, 10, 99, 8, 12, 6, 30, 25, 6, 3, 12, 33, 3, 36, 12, 6, 3, 6, 40, 12, 5, 16, 4, 16, 18, 6, 8, 4, 12, 9, 16, 12, 1237, 25, 217, 8, 8, 12, 28, 35, 37, 9, 82, 20, 20, 30, 14, 12, 9, 44, 24, 24, 9, 20, 12, 6, 664, 6, 18, 6, 42, 363, 16, 8, 8, 4, 21, 77, 2, 16, 16, 5, 64, 49, 14, 6, 20, 4, 6, 24, 24, 103, 20, 18, 12, 12, 2, 12, 20, 10, 14, 8, 3]\n"
     ]
    }
   ],
   "source": [
    "get_test_cases(\"test_case.txt\")\n",
    "calculate_num_moves()"
   ]
  },
  {
   "cell_type": "code",
   "execution_count": 172,
   "id": "93c5e77f",
   "metadata": {},
   "outputs": [
    {
     "name": "stdout",
     "output_type": "stream",
     "text": [
      "20.74\n"
     ]
    }
   ],
   "source": [
    "differences=[]\n",
    "for i in range(len(manhattan_moves)):\n",
    "    differences.append(misplaced_moves[i]-manhattan_moves[i])\n",
    "print(sum(differences)/len(differences))"
   ]
  },
  {
   "cell_type": "code",
   "execution_count": 167,
   "id": "93d379f8",
   "metadata": {},
   "outputs": [
    {
     "data": {
      "image/png": "[encoded data removed]",
      "text/plain": [
       "<Figure size 1152x720 with 1 Axes>"
      ]
     },
     "metadata": {
      "needs_background": "light"
     },
     "output_type": "display_data"
    }
   ],
   "source": [
    "numbers = list(range(1,101))\n",
    "\n",
    "plt.figure(figsize=(16,10))\n",
    "plt.scatter(x=numbers,y=manhattan_moves,c='red',alpha=1)\n",
    "plt.xlabel('Actual log values of y')\n",
    "plt.ylabel('predicted log y hat')\n",
    "plt.title(f'log y vs log y_hat with correlation')\n",
    "\n",
    "plt.scatter(x=numbers,y=misplaced_moves,c='blue',alpha=1)\n",
    "\n",
    "plt.show()"
   ]
  },
  {
   "cell_type": "code",
   "execution_count": 168,
   "id": "a5e48946",
   "metadata": {},
   "outputs": [
    {
     "name": "stdout",
     "output_type": "stream",
     "text": [
      "[0, 1, 2, 3, 4, 5, 6, 7, 8, 9, 10, 11, 12, 13, 14, 15, 16, 17, 18, 19, 20, 21, 22, 23, 24, 25, 26, 27, 28, 29, 30, 31, 32, 33, 34, 35, 36, 37, 38, 39, 40, 41, 42, 43, 44, 45, 46, 47, 48, 49, 50, 51, 52, 53, 54, 55, 56, 57, 58, 59, 60, 61, 62, 63, 64, 65, 66, 67, 68, 69, 70, 71, 72, 73, 74, 75, 76, 77, 78, 79, 80, 81, 82, 83, 84, 85, 86, 87, 88, 89, 90, 91, 92, 93, 94, 95, 96, 97, 98, 99]\n"
     ]
    }
   ],
   "source": [
    "numbers = list(range(100))\n",
    "print(numbers)"
   ]
  },
  {
   "cell_type": "code",
   "execution_count": 169,
   "id": "b528735d",
   "metadata": {},
   "outputs": [
    {
     "data": {
      "image/png": "[encoded data removed]",
      "text/plain": [
       "<Figure size 1152x720 with 1 Axes>"
      ]
     },
     "metadata": {
      "needs_background": "light"
     },
     "output_type": "display_data"
    }
   ],
   "source": [
    "numbers = list(range(1,101))\n",
    "\n",
    "plt.figure(figsize=(16,10))\n",
    "plt.scatter(x=numbers,y=misplaced_moves,c='red',alpha=0.6)\n",
    "plt.xlabel('Actual log values of y')\n",
    "plt.ylabel('predicted log y hat')\n",
    "plt.title(f'log y vs log y_hat with correlation')\n",
    "\n",
    "plt.show()"
   ]
  },
  {
   "cell_type": "code",
   "execution_count": 170,
   "id": "d1a0c00b",
   "metadata": {},
   "outputs": [
    {
     "data": {
      "image/png": "[encoded data removed]",
      "text/plain": [
       "<Figure size 432x288 with 1 Axes>"
      ]
     },
     "metadata": {
      "needs_background": "light"
     },
     "output_type": "display_data"
    }
   ],
   "source": [
    "sns.kdeplot(x=numbers,y=np.array(misplaced_moves))\n",
    "plt.show()"
   ]
  },
  {
   "cell_type": "code",
   "execution_count": null,
   "id": "103beb7c",
   "metadata": {},
   "outputs": [],
   "source": []
  },
  {
   "cell_type": "code",
   "execution_count": 184,
   "id": "971ab79b",
   "metadata": {},
   "outputs": [
    {
     "data": {
      "image/png": "[encoded data removed]",
      "text/plain": [
       "<Figure size 720x432 with 1 Axes>"
      ]
     },
     "metadata": {
      "needs_background": "light"
     },
     "output_type": "display_data"
    }
   ],
   "source": [
    "plt.figure(figsize=(10,6))\n",
    "plt.bar(numbers,differences)\n",
    "plt.xlabel('Test case')\n",
    "plt.ylabel('Differens(Misplaced-Manhatton)')\n",
    "plt.show()"
   ]
  },
  {
   "cell_type": "code",
   "execution_count": null,
   "id": "9a5fcfba",
   "metadata": {},
   "outputs": [],
   "source": []
  },
  {
   "cell_type": "code",
   "execution_count": 176,
   "id": "e7b320f4",
   "metadata": {},
   "outputs": [
    {
     "name": "stdout",
     "output_type": "stream",
     "text": [
      "[12, 10, 9, 36, 8, 6, 6, 21, 10, 77, 8, 10, 6, 30, 25, 6, 3, 12, 21, 3, 36, 12, 6, 3, 6, 40, 12, 5, 16, 4, 16, 16, 6, 8, 4, 12, 9, 16, 12, 446, 25, 73, 8, 8, 12, 12, 35, 18, 9, 20, 20, 20, 30, 14, 12, 9, 28, 24, 21, 9, 20, 12, 6, 134, 6, 18, 6, 42, 75, 16, 8, 8, 4, 21, 62, 2, 16, 16, 5, 27, 49, 14, 6, 20, 4, 6, 20, 24, 27, 20, 18, 12, 12, 2, 12, 20, 10, 14, 8, 3]\n"
     ]
    }
   ],
   "source": [
    "print(manhattan_moves)"
   ]
  },
  {
   "cell_type": "code",
   "execution_count": 177,
   "id": "e7233edb",
   "metadata": {},
   "outputs": [
    {
     "name": "stdout",
     "output_type": "stream",
     "text": [
      "[12, 10, 9, 71, 8, 6, 6, 21, 10, 99, 8, 12, 6, 30, 25, 6, 3, 12, 33, 3, 36, 12, 6, 3, 6, 40, 12, 5, 16, 4, 16, 18, 6, 8, 4, 12, 9, 16, 12, 1237, 25, 217, 8, 8, 12, 28, 35, 37, 9, 82, 20, 20, 30, 14, 12, 9, 44, 24, 24, 9, 20, 12, 6, 664, 6, 18, 6, 42, 363, 16, 8, 8, 4, 21, 77, 2, 16, 16, 5, 64, 49, 14, 6, 20, 4, 6, 24, 24, 103, 20, 18, 12, 12, 2, 12, 20, 10, 14, 8, 3]\n"
     ]
    }
   ],
   "source": [
    "print(misplaced_moves)"
   ]
  },
  {
   "cell_type": "code",
   "execution_count": 182,
   "id": "c9610813",
   "metadata": {},
   "outputs": [
    {
     "name": "stdout",
     "output_type": "stream",
     "text": [
      "-2.083259263554605\n",
      "0.039804181779757926\n"
     ]
    }
   ],
   "source": [
    "import scipy.stats as stats\n",
    "test_statistics_value, p_value = stats.ttest_rel(manhattan_moves, misplaced_moves)\n",
    "print(test_statistics_value)\n",
    "print(p_value)"
   ]
  },
  {
   "cell_type": "code",
   "execution_count": 183,
   "id": "0112327e",
   "metadata": {},
   "outputs": [],
   "source": [
    "import pandas as pd\n",
    "dict = {'misplaced': misplaced_moves, 'manhatton': manhattan_moves}\n",
    "df = pd.DataFrame(dict) \n",
    "df.to_csv('move.csv') "
   ]
  },
  {
   "cell_type": "code",
   "execution_count": null,
   "id": "21e01a55",
   "metadata": {},
   "outputs": [],
   "source": []
  }
 ],
 "metadata": {
  "kernelspec": {
   "display_name": "Python 3",
   "language": "python",
   "name": "python3"
  },
  "language_info": {
   "codemirror_mode": {
    "name": "ipython",
    "version": 3
   },
   "file_extension": ".py",
   "mimetype": "text/x-python",
   "name": "python",
   "nbconvert_exporter": "python",
   "pygments_lexer": "ipython3",
   "version": "3.8.8"
  }
 },
 "nbformat": 4,
 "nbformat_minor": 5
}
