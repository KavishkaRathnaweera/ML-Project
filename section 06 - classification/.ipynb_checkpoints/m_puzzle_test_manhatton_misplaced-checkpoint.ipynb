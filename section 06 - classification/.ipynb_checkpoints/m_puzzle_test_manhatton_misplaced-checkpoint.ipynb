{
 "cells": [
  {
   "cell_type": "code",
   "execution_count": null,
   "id": "83ca9272",
   "metadata": {},
   "outputs": [],
   "source": []
  },
  {
   "cell_type": "code",
   "execution_count": 30,
   "id": "6f2b0750",
   "metadata": {},
   "outputs": [
    {
     "name": "stdout",
     "output_type": "stream",
     "text": [
      "Enter start file relative pathStart.txt\n",
      "Enter goal file relative pathGoal.txt\n"
     ]
    }
   ],
   "source": [
    "startFilepath = input('Enter start file relative path') # Start.txt\n",
    "goalFilepath = input('Enter goal file relative path') # Goal.txt"
   ]
  },
  {
   "cell_type": "code",
   "execution_count": 47,
   "id": "28ebc9db",
   "metadata": {},
   "outputs": [],
   "source": [
    "startFile = open(startFilepath,\"r\")\n",
    "goalFile = open(goalFilepath,\"r\")"
   ]
  },
  {
   "cell_type": "code",
   "execution_count": 48,
   "id": "7aed21cf",
   "metadata": {},
   "outputs": [],
   "source": [
    "startList= [list(row.strip('\\n').split('\\t')) for row in startFile]\n",
    "endList = [list(row.strip('\\n').split('\\t')) for row in startFile]"
   ]
  },
  {
   "cell_type": "code",
   "execution_count": 315,
   "id": "548225b4",
   "metadata": {},
   "outputs": [],
   "source": [
    "def calculate_manhatten(n,start,goal):\n",
    "    total_misplaced = 0\n",
    "    start_conf=[i for row in start for i in row ]\n",
    "    goal_conf=[i for row in goal for i in row ]\n",
    "    for t in range(len(start_conf)):\n",
    "        if(start_conf[t]!='-'):\n",
    "            g_index = goal_conf.index(start_conf[t])\n",
    "            total_misplaced += abs(g_index//n - t//n) + abs(g_index%n - t%n)  \n",
    "    return total_misplaced"
   ]
  },
  {
   "cell_type": "code",
   "execution_count": 316,
   "id": "ecb773bf",
   "metadata": {},
   "outputs": [
    {
     "name": "stdout",
     "output_type": "stream",
     "text": [
      "18\n"
     ]
    }
   ],
   "source": [
    "s = [[7,2,4],[5,'-',6],[8,3,1]]\n",
    "g = [['-',1,2],[3,4,5],[6,7,8]]\n",
    "print(calculate_manhatten(3,s,g))"
   ]
  },
  {
   "cell_type": "code",
   "execution_count": 50,
   "id": "8613f7fc",
   "metadata": {},
   "outputs": [
    {
     "data": {
      "text/plain": [
       "[['1', '4', '-', '7'],\n",
       " ['6', '-', '10', '13'],\n",
       " ['8', '11', '14', '12'],\n",
       " ['9', '2', '3', '5']]"
      ]
     },
     "execution_count": 50,
     "metadata": {},
     "output_type": "execute_result"
    }
   ],
   "source": [
    "sample = startList.copy()\n",
    "sample.sort()\n",
    "sample"
   ]
  },
  {
   "cell_type": "code",
   "execution_count": 77,
   "id": "addcbc01",
   "metadata": {},
   "outputs": [
    {
     "ename": "SyntaxError",
     "evalue": "'return' outside function (<ipython-input-77-2f35fbc88ce6>, line 2)",
     "output_type": "error",
     "traceback": [
      "\u001b[1;36m  File \u001b[1;32m\"<ipython-input-77-2f35fbc88ce6>\"\u001b[1;36m, line \u001b[1;32m2\u001b[0m\n\u001b[1;33m    return 1\u001b[0m\n\u001b[1;37m    ^\u001b[0m\n\u001b[1;31mSyntaxError\u001b[0m\u001b[1;31m:\u001b[0m 'return' outside function\n"
     ]
    }
   ],
   "source": [
    "while(True):\n",
    "    return 1"
   ]
  },
  {
   "cell_type": "code",
   "execution_count": 62,
   "id": "34971580",
   "metadata": {},
   "outputs": [
    {
     "data": {
      "text/plain": [
       "True"
      ]
     },
     "execution_count": 62,
     "metadata": {},
     "output_type": "execute_result"
    }
   ],
   "source": [
    "sample2 = startList.copy()\n",
    "sample2.sort()\n",
    "sample2==sample"
   ]
  },
  {
   "cell_type": "code",
   "execution_count": 37,
   "id": "c831d2b1",
   "metadata": {},
   "outputs": [],
   "source": [
    "def g():\n",
    "    return 1"
   ]
  },
  {
   "cell_type": "code",
   "execution_count": null,
   "id": "658808b4",
   "metadata": {},
   "outputs": [],
   "source": [
    "def h():\n",
    "    return 1"
   ]
  },
  {
   "cell_type": "code",
   "execution_count": 353,
   "id": "4cdcb81b",
   "metadata": {},
   "outputs": [],
   "source": [
    "class Node:\n",
    "    \n",
    "    def __init__(self,state,gCost,fCost,tile_value,direction):\n",
    "        #create object of the node\n",
    "        self.state = state\n",
    "        self.gCost = gCost\n",
    "        self.fCost = fCost\n",
    "        self.direction = direction\n",
    "        self.tile_value = tile_value\n",
    "    \n",
    "    def expand_node(self):\n",
    "        \n",
    "        dash= self.find_positions_of_dash()\n",
    "        x1,y1,x2,y2 = dash[0][0],dash[0][1],dash[1][0],dash[1][1]\n",
    "        plist1 = [[x1,y1-1],[x1,y1+1],[x1-1,y1],[x1+1,y1]]\n",
    "        plist2 = [[x2,y2-1],[x2,y2+1],[x2-1,y2],[x2+1,y2]]\n",
    "        expanded_states=[]\n",
    "        moves = []\n",
    "        for i in range(4):\n",
    "            successor1 = self.swap_tile_dash(x1,y1,x2,y2,plist1[i][0],plist1[i][1])\n",
    "            successor2 = self.swap_tile_dash(x2,y2,x1,y1,plist2[i][0],plist2[i][1])\n",
    "            if(successor1 is not None):\n",
    "                moves.append(successor1[1:])\n",
    "                next_node = Node(successor1[0],0,0,successor1[1],successor1[2])\n",
    "                expanded_states.append(next_node)\n",
    "            if(successor2 is not None):\n",
    "                moves.append(successor2[1:])\n",
    "                next_node = Node(successor2[0],0,0,successor2[1],successor2[2])\n",
    "                expanded_states.append(next_node)\n",
    "        return expanded_states,moves\n",
    "    \n",
    "    def find_positions_of_dash(self):\n",
    "        dash_positions = []\n",
    "        for i in range(len(self.state)):\n",
    "            for j in range(len(self.state)):\n",
    "                if(self.state[i][j] == '-'):\n",
    "                    dash_positions.append([i,j])\n",
    "        return dash_positions\n",
    "    \n",
    "    def swap_tile_dash(self,dash_i,dash_j,dash_x,dash_y,x,y):\n",
    "        if(x>=0 and x<len(self.state) and y>=0 and y<len(self.state) and not (dash_x==x and dash_y==y) ):\n",
    "            current_state = self.copy_list(self.state)\n",
    "            value = current_state[x][y]\n",
    "            current_state[x][y] = current_state[dash_i][dash_j]\n",
    "            current_state[dash_i][dash_j] = value\n",
    "            return [current_state,value,self.find_direction(dash_i,dash_j,x,y)]\n",
    "        else:\n",
    "            return None\n",
    "        \n",
    "    def find_direction(self,dash_i,dash_j,x,y):\n",
    "        direction = \"\"\n",
    "        if(dash_i==x):\n",
    "            if(dash_j>y):\n",
    "                direction=\"Right\"\n",
    "            else:\n",
    "                direction = \"Left\"\n",
    "        else:\n",
    "            if(dash_i>x):\n",
    "                direction=\"Down\"\n",
    "            else:\n",
    "                direction=\"Up\"\n",
    "        return direction\n",
    "    \n",
    "    def copy_list(self,list_input):\n",
    "        out = []\n",
    "        for i in list_input:\n",
    "            t = []\n",
    "            for j in i:\n",
    "                t.append(j)\n",
    "            out.append(t)\n",
    "        return out  \n",
    "            \n",
    "            \n",
    "    "
   ]
  },
  {
   "cell_type": "code",
   "execution_count": null,
   "id": "b645d373",
   "metadata": {},
   "outputs": [],
   "source": [
    "\n",
    "    \n",
    "    \n"
   ]
  },
  {
   "cell_type": "code",
   "execution_count": 366,
   "id": "53d99a19",
   "metadata": {},
   "outputs": [],
   "source": [
    "class N_Puzzle:\n",
    "    def __init__(self,size,heuristic):\n",
    "        self.size_n = size\n",
    "        self.OPEN = []\n",
    "        self.CLOSED = []\n",
    "        self.heuristic = heuristic\n",
    "    \n",
    "    def calculate_f(self,start,goal):\n",
    "        return self.calculate_h(start.state,goal)+start.gCost\n",
    "    \n",
    "    def calculate_h(self,start,goal):\n",
    "        if(self.heuristic == \"Misplaced\"):\n",
    "            total_misplaced = 0\n",
    "            for i in range(0,self.size_n):\n",
    "                for j in range(0,self.size_n):\n",
    "                    if start[i][j] != goal[i][j] and start[i][j] != '-':\n",
    "                        total_misplaced += 1\n",
    "            return total_misplaced\n",
    "        elif(self.heuristic == \"Manhatton\"):\n",
    "            total_distance = 0\n",
    "            start_conf=[i for row in start for i in row ]\n",
    "            goal_conf=[i for row in goal for i in row ]\n",
    "            n = self.size_n\n",
    "            for t in range(len(start_conf)):\n",
    "                if(start_conf[t]!='-'):\n",
    "                    g_index = goal_conf.index(start_conf[t])\n",
    "                    total_distance += abs(g_index//n - t//n) + abs(g_index%n - t%n)  \n",
    "            return total_distance\n",
    "    \n",
    "    \n",
    "    def A_star_algorithm(self):\n",
    "        \n",
    "        #take file input.\n",
    "        #startFilepath = input('Enter start file relative path') # Start.txt\n",
    "        #goalFilepath = input('Enter goal file relative path')\n",
    "        #startFile = open(startFilepath,\"r\")\n",
    "        #goalFile = open(goalFilepath,\"r\")\n",
    "        startFile = open(\"Start.txt\",\"r\")\n",
    "        goalFile = open(\"Goal.txt\",\"r\")\n",
    "        start_list= [list(row.strip('\\n').split('\\t')) for row in startFile]\n",
    "        goal_list = [list(row.strip('\\n').split('\\t')) for row in goalFile]\n",
    "        \n",
    "        startFile.close()\n",
    "        goalFile.close()\n",
    "        \n",
    "        if(len(start_list)==0 or start_list==None):\n",
    "            return False\n",
    "        \n",
    "        start_node = Node(start_list,0,0, None,None)\n",
    "        start_node.fCost = self.calculate_f(start_node,goal_list)\n",
    "        \n",
    "        self.OPEN.append(start_node)\n",
    "        \n",
    "        if(start_node.state == goal_list):\n",
    "            return start_node.fCost\n",
    "        output = 656;\n",
    "        move_set = []\n",
    "        while(True):\n",
    "#             print(output)\n",
    "            if(len(self.OPEN)==0):\n",
    "#                 print('open is zero')\n",
    "                break\n",
    "            current_state = self.OPEN[0]\n",
    "            \n",
    "            if(self.calculate_h(current_state.state,goal_list) == 0):\n",
    "                output = current_state.fCost\n",
    "                print('goal achieved')\n",
    "                print(current_state.state)\n",
    "                break\n",
    "\n",
    "            childs_moves = current_state.expand_node()\n",
    "            move_set.append([current_state.tile_value,current_state.direction])\n",
    "            for child in childs_moves[0]:\n",
    "                nodes = []\n",
    "                nodes.extend(self.OPEN)\n",
    "                nodes.extend(self.CLOSED)\n",
    "                node_state_list = [node.state for node in nodes]\n",
    "                closed_node = [node.state for node in self.CLOSED]\n",
    "                if(child.state not in node_state_list):\n",
    "                    child.gCost = current_state.gCost + 1\n",
    "                    child.fCost = self.calculate_f(child,goal_list)\n",
    "                    self.OPEN.append(child)\n",
    "                else:\n",
    "                    child.gCost = min(child.gCost,current_state.gCost + 1)\n",
    "                    prev_fCost = child.fCost\n",
    "                    child.fCost = self.calculate_f(child,goal_list)\n",
    "                    if(prev_fCost> child.fCost and (child.state in closed_node)):\n",
    "                        self.OPEN.append(child)\n",
    "                        del self.CLOSED[closed_node.index(child.state)]\n",
    "            del self.OPEN[0]\n",
    "            self.CLOSED.append(current_state)\n",
    "            self.OPEN.sort(key = lambda x:x.fCost,reverse=False)\n",
    "        return move_set"
   ]
  },
  {
   "cell_type": "code",
   "execution_count": 367,
   "id": "9436299e",
   "metadata": {},
   "outputs": [
    {
     "name": "stdout",
     "output_type": "stream",
     "text": [
      "goal achieved\n",
      "[['1', '4', '7', '5'], ['9', '2', '3', '-'], ['-', '11', '10', '13'], ['6', '8', '14', '12']]\n"
     ]
    }
   ],
   "source": [
    "puz = N_Puzzle(4,\"Manhatton\")\n",
    "dd = puz.A_star_algorithm()"
   ]
  },
  {
   "cell_type": "code",
   "execution_count": 368,
   "id": "63b8129b",
   "metadata": {},
   "outputs": [
    {
     "name": "stdout",
     "output_type": "stream",
     "text": [
      "[[None, None], ['7', 'Left'], ['11', 'Up'], ['5', 'Up'], ['11', 'Up'], ['8', 'Right'], ['11', 'Up'], ['8', 'Right'], ['6', 'Down'], ['8', 'Right'], ['6', 'Down']]\n"
     ]
    }
   ],
   "source": [
    "print(dd)"
   ]
  },
  {
   "cell_type": "code",
   "execution_count": 369,
   "id": "4cb4d490",
   "metadata": {},
   "outputs": [
    {
     "data": {
      "text/plain": [
       "11"
      ]
     },
     "execution_count": 369,
     "metadata": {},
     "output_type": "execute_result"
    }
   ],
   "source": [
    "len(dd)"
   ]
  },
  {
   "cell_type": "code",
   "execution_count": null,
   "id": "ca778cd6",
   "metadata": {},
   "outputs": [],
   "source": []
  },
  {
   "cell_type": "code",
   "execution_count": null,
   "id": "f9bdc2e7",
   "metadata": {},
   "outputs": [],
   "source": []
  }
 ],
 "metadata": {
  "kernelspec": {
   "display_name": "Python 3",
   "language": "python",
   "name": "python3"
  },
  "language_info": {
   "codemirror_mode": {
    "name": "ipython",
    "version": 3
   },
   "file_extension": ".py",
   "mimetype": "text/x-python",
   "name": "python",
   "nbconvert_exporter": "python",
   "pygments_lexer": "ipython3",
   "version": "3.8.8"
  }
 },
 "nbformat": 4,
 "nbformat_minor": 5
}
