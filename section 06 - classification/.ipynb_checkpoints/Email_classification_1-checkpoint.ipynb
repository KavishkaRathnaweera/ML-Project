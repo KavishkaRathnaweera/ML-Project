{
 "cells": [
  {
   "cell_type": "markdown",
   "id": "a2c2f248",
   "metadata": {},
   "source": [
    "# Imports"
   ]
  },
  {
   "cell_type": "code",
   "execution_count": 35,
   "id": "2c401efd",
   "metadata": {},
   "outputs": [],
   "source": [
    "from os import walk\n",
    "from os.path import join\n",
    "import pandas as pd"
   ]
  },
  {
   "cell_type": "markdown",
   "id": "7ed094d1",
   "metadata": {},
   "source": [
    "# Constants"
   ]
  },
  {
   "cell_type": "code",
   "execution_count": 36,
   "id": "638f3e99",
   "metadata": {},
   "outputs": [],
   "source": [
    "EXAMPLE_TEXT = 'SpamData/SpamData/01_Processing/practice_email.txt'\n",
    "NONSPAM_1 = 'SpamData/SpamData/01_Processing/spam_assassin_corpus/easy_ham_1'\n",
    "NONSPAM_2 = 'SpamData/SpamData/01_Processing/spam_assassin_corpus/easy_ham_2'\n",
    "SPAM_1 = 'SpamData/SpamData/01_Processing/spam_assassin_corpus/spam_1'\n",
    "SPAM_2 = 'SpamData/SpamData/01_Processing/spam_assassin_corpus/spam_2'"
   ]
  },
  {
   "cell_type": "markdown",
   "id": "b6bc88c9",
   "metadata": {},
   "source": [
    "# Read file"
   ]
  },
  {
   "cell_type": "code",
   "execution_count": 37,
   "id": "ac84e6d3",
   "metadata": {},
   "outputs": [],
   "source": [
    "stream = open(EXAMPLE_TEXT,encoding='latin-1' )\n",
    "body = []\n",
    "is_body=False\n",
    "\n",
    "for line in stream:\n",
    "    if(is_body):\n",
    "        body.append(line)\n",
    "    elif(line=='\\n'):\n",
    "        is_body=True\n",
    "stream.close()\n",
    "\n",
    "email_body = '\\n'.join(body)\n",
    "#print(email_body)\n",
    "#print(body)\n"
   ]
  },
  {
   "cell_type": "markdown",
   "id": "ea1d8b34",
   "metadata": {},
   "source": [
    "# Extract emails body using Generator function"
   ]
  },
  {
   "cell_type": "code",
   "execution_count": 38,
   "id": "9e033822",
   "metadata": {},
   "outputs": [],
   "source": [
    "def email_body_generator(path):\n",
    "    for root,dirnames,filenames in walk(path):\n",
    "        for file_name in filenames:\n",
    "            file_path = join(root,file_name)\n",
    "            stream = open(file_path,encoding='latin-1' )\n",
    "            body = []\n",
    "            is_body=False\n",
    "\n",
    "            for line in stream:\n",
    "                if(is_body):\n",
    "                    body.append(line)\n",
    "                elif(line=='\\n'):\n",
    "                    is_body=True\n",
    "            stream.close()\n",
    "            email_body = '\\n'.join(body)\n",
    "            \n",
    "            yield file_name,email_body\n",
    "            "
   ]
  },
  {
   "cell_type": "code",
   "execution_count": 39,
   "id": "7f910611",
   "metadata": {},
   "outputs": [],
   "source": [
    "# generator function must be called repeatedly\n",
    "def dataframe_from_dict(path,classification):\n",
    "    rows=[]\n",
    "    row_names=[]\n",
    "    \n",
    "    for file_name,email_body in email_body_generator(path):\n",
    "        rows.append({'MESSAGE':email_body,'CATEGORY':classification})\n",
    "        row_names.append(file_name)\n",
    "        \n",
    "        return pd.DataFrame(rows,index=row_names)"
   ]
  },
  {
   "cell_type": "code",
   "execution_count": 44,
   "id": "53193b05",
   "metadata": {},
   "outputs": [],
   "source": [
    "spam_emails= dataframe_from_dict(NONSPAM_2,1)"
   ]
  },
  {
   "cell_type": "code",
   "execution_count": null,
   "id": "a7a2e710",
   "metadata": {},
   "outputs": [],
   "source": []
  },
  {
   "cell_type": "code",
   "execution_count": null,
   "id": "5fed391e",
   "metadata": {},
   "outputs": [],
   "source": []
  },
  {
   "cell_type": "code",
   "execution_count": null,
   "id": "81ac1aaf",
   "metadata": {},
   "outputs": [],
   "source": []
  },
  {
   "cell_type": "code",
   "execution_count": null,
   "id": "87f1d4cf",
   "metadata": {},
   "outputs": [],
   "source": []
  }
 ],
 "metadata": {
  "kernelspec": {
   "display_name": "Python 3",
   "language": "python",
   "name": "python3"
  },
  "language_info": {
   "codemirror_mode": {
    "name": "ipython",
    "version": 3
   },
   "file_extension": ".py",
   "mimetype": "text/x-python",
   "name": "python",
   "nbconvert_exporter": "python",
   "pygments_lexer": "ipython3",
   "version": "3.8.8"
  }
 },
 "nbformat": 4,
 "nbformat_minor": 5
}
