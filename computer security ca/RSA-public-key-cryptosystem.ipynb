{
 "cells": [
  {
   "cell_type": "markdown",
   "id": "f0771826",
   "metadata": {},
   "source": [
    "# RSA Public Key Cryptosystem"
   ]
  },
  {
   "cell_type": "markdown",
   "id": "fd0d8731",
   "metadata": {},
   "source": [
    "RSA is the most commonly used public key cryptosystem.\n",
    "\n",
    "It can be used for\n",
    "1. Public key encryption and\n",
    "2. Digital signatures.\n",
    "\n",
    "It was invented in 1977 by Ronald L. __R__ivest, Adi __S__hamir, and Leonard M. __A__dleman.\n",
    "\n",
    "The security of the RSA public key cryptosystem is based on the difficulty of factoring a large integer composite.\n",
    "\n",
    "\n"
   ]
  },
  {
   "cell_type": "markdown",
   "id": "cc22038e",
   "metadata": {},
   "source": [
    "## RSA Public Key Encryption"
   ]
  },
  {
   "cell_type": "markdown",
   "id": "3a26aa27",
   "metadata": {},
   "source": [
    "There are 3 different algorithms for\n",
    "1. Key pair generation\n",
    "2. Message encryption\n",
    "3. Cipher decryption"
   ]
  },
  {
   "cell_type": "markdown",
   "id": "0513f8cb",
   "metadata": {},
   "source": [
    "### Key Pair Generation"
   ]
  },
  {
   "cell_type": "markdown",
   "id": "39c20aa5",
   "metadata": {},
   "source": [
    "(1) Choose at random two large distinct prime numbers of equal size as $p$ and $q$.\n",
    "\n",
    "> Remember the criteria for security:\n",
    "> 1. Numbers must be selected randomly\n",
    "2. Numbers must be large\n",
    "3. Numbers must be distinct (not equal)\n",
    "4. Numbers must be of equal size \n",
    "5. Numbers must be prime\n",
    "6. Numbers must be kept secret\n",
    "\n",
    "> How large is large? It used to be\n",
    "> 1. 512 bit-length for short-term\n",
    "2. 1024 bit-length for medium-term\n",
    "3. 2048 bit-length for long-term\n",
    "\n",
    "> At present, the recomended sizes are\n",
    "> 1. 1024 bit-length for short-term\n",
    "2. 2048 bit-length for medium-term\n",
    "3. 4096 bit-length for long-term"
   ]
  },
  {
   "cell_type": "markdown",
   "id": "b1a7f47c",
   "metadata": {},
   "source": [
    "(2) Compute the prime composite $n$ as <font color=blue>$n = p*q$</font>.\n",
    "\n",
    "> The value $n$ is used as the __modulus__ for all modulo arithmetic operations.\n",
    "\n",
    "> The size of $n$ expressed as a bit-length is the __key length__ of the RSA cryptosystem.\n",
    "\n",
    "> $n$ is a public value."
   ]
  },
  {
   "cell_type": "markdown",
   "id": "43e0ae07",
   "metadata": {},
   "source": [
    "(3) Compute the Euler Totient Function value of $n$ as <font color=blue>$\\phi(n) = (p-1)*(q-1)$</font>.\n",
    "\n",
    "> The value $\\phi(n)$ must be kept secret."
   ]
  },
  {
   "cell_type": "markdown",
   "id": "aacea23c",
   "metadata": {},
   "source": [
    "(4) Choose an integer $e$ such that \n",
    "> 1. $1 < e < n$ and \n",
    "2. greatest common divisor $gcd(e, \\phi(n)) = 1$.\n",
    "\n",
    "> That is, $e$ and $\\phi(n)$ must be coprimes.\n",
    "\n",
    "> $e$ is a public value.\n",
    "\n",
    "> It is common to select a prime number such as $2^{16} + 1$ as the $e$ value. \n"
   ]
  },
  {
   "cell_type": "markdown",
   "id": "f7886f67",
   "metadata": {},
   "source": [
    "(5) Compute $d$ such that <font color=blue>$d*e \\mod \\phi(n) = 1$</font>. \n",
    "\n",
    "> $d$ is the modular multiplicative inverse of $e$ with modulo $\\phi(n)$. \n",
    "\n",
    "> $d$ is a secret value."
   ]
  },
  {
   "cell_type": "markdown",
   "id": "74fea200",
   "metadata": {},
   "source": [
    "After the key pair generation, we must __securely dispose (or destroy) the values $p$, $q$, and $\\phi(n)$__.\n",
    "\n",
    "> The public key is the value pair $(e,n)$.\n",
    "\n",
    "> The secret key is the value $d$."
   ]
  },
  {
   "cell_type": "markdown",
   "id": "61bdcd17",
   "metadata": {},
   "source": [
    "### Message Encryption"
   ]
  },
  {
   "cell_type": "markdown",
   "id": "f2351500",
   "metadata": {},
   "source": [
    "Divide the original message $M$ into a set of blocks $M_0, M_1, M_2, \\ldots$ so that each block $M_i$ can be converted to a number $m_i$ such that $m_i < n$.\n",
    "\n",
    "Compute the encrypted blocks $c_0, c_1, c_2, \\ldots$ with the public key $(e,n)$ of the __receiver__ as <font color=blue>$c_i = m_i^e \\mod n$</font>.\n",
    "\n",
    "Transmit the encrypted blocks $c_0, c_1, c_2, \\ldots$ as the encrypted message $C$ to the owner of the secret key."
   ]
  },
  {
   "cell_type": "markdown",
   "id": "aeab58a1",
   "metadata": {},
   "source": [
    "### Cipher Decryption"
   ]
  },
  {
   "cell_type": "markdown",
   "id": "de01e97d",
   "metadata": {},
   "source": [
    "Divide the encrypted message $C$ back into blocks $c_0, c_1, c_2, \\ldots$ of the same block size used in the encryption process.\n",
    "\n",
    "Decrypt each block $c_i$ with the secret key $d$ of the __receiver__ by computing as <font color=blue> $m_i = c_i^d \\mod n$</font>.\n",
    "\n",
    "Assemble the decrypted blocks $m_i$ together after converting them to $M_i$ to get the original message $M$.\n"
   ]
  },
  {
   "cell_type": "markdown",
   "id": "ed7841f7",
   "metadata": {},
   "source": [
    "### RSA example with small values"
   ]
  },
  {
   "cell_type": "code",
   "execution_count": 23,
   "id": "6f4cb595",
   "metadata": {},
   "outputs": [
    {
     "name": "stdout",
     "output_type": "stream",
     "text": [
      "-------------------\n",
      "p = 5 and q = 7\n",
      "modulus n = 35\n",
      "phi(n) = 24\n",
      "Is e = 5  and phi(n) = 24 coprime?\n",
      "Is d = 5  a modular multiplicative inverse of e = 5 ? True\n",
      "public key {e,n} is { 5 , 35 }\n",
      "secret key {d} is { 5 }\n"
     ]
    }
   ],
   "source": [
    "##### print(\"Key Pair Generation\")\n",
    "print(\"-------------------\")\n",
    "p = 5\n",
    "q = 7\n",
    "n = p*q\n",
    "print(\"p =\",p, \"and\", \"q =\", q)\n",
    "print(\"modulus n =\",n)\n",
    "phi_n = (p-1)*(q-1)\n",
    "print(\"phi(n) =\",phi_n)\n",
    "e = 5\n",
    "print(\"Is e =\",e,\" and phi(n) =\",phi_n,\"coprime?\")\n",
    "d = 5\n",
    "print(\"Is d =\", d, \" a modular multiplicative inverse of e =\", e, \"?\", (d*e % phi_n) == 1)\n",
    "print(\"public key {e,n} is {\",e,\",\",n,\"}\")\n",
    "print(\"secret key {d} is {\",d,\"}\")"
   ]
  },
  {
   "cell_type": "code",
   "execution_count": 24,
   "id": "434b26f1",
   "metadata": {},
   "outputs": [
    {
     "name": "stdout",
     "output_type": "stream",
     "text": [
      "Message Encryption\n",
      "------------------\n",
      "message m = 12\n",
      "ciphertext c = 17\n"
     ]
    }
   ],
   "source": [
    "print(\"Message Encryption\")\n",
    "print(\"------------------\")\n",
    "m = 12\n",
    "print(\"message m =\",m)\n",
    "c = m**e % n\n",
    "print(\"ciphertext c =\",c)"
   ]
  },
  {
   "cell_type": "code",
   "execution_count": 25,
   "id": "8f2c4807",
   "metadata": {},
   "outputs": [
    {
     "name": "stdout",
     "output_type": "stream",
     "text": [
      "Ciphetext Decryption\n",
      "--------------------\n",
      "ciphertext c = 17\n",
      "plaintext m1 = 12\n",
      "Have we recovered the original message? True\n"
     ]
    }
   ],
   "source": [
    "print(\"Ciphetext Decryption\")\n",
    "print(\"--------------------\")\n",
    "print(\"ciphertext c =\",c)\n",
    "m1 = c**d % n\n",
    "print(\"plaintext m1 =\",m1)\n",
    "print(\"Have we recovered the original message?\",m1 == m)"
   ]
  },
  {
   "cell_type": "markdown",
   "id": "8401eae6",
   "metadata": {},
   "source": [
    "### <font color=red>Quick Exercise 1</font>"
   ]
  },
  {
   "cell_type": "markdown",
   "id": "36acdcc2",
   "metadata": {},
   "source": [
    "For the prime numbers 7 and 19, \n",
    "1. what is the public key?\n",
    "2. what is the secret key?\n",
    "3. what is the ciphertext for plaintext given as number 6?\n",
    "\n",
    "_Make a note of your answers to these questions, as you will need to enter them as part of your CA quizzes._"
   ]
  },
  {
   "cell_type": "code",
   "execution_count": 1,
   "id": "fb69099d",
   "metadata": {},
   "outputs": [],
   "source": [
    "def encrypt_cipher(m,e,n):\n",
    "    return m**e%n\n",
    "\n",
    "def decrypt_cipher(c,d,n):\n",
    "    return c**d%n"
   ]
  },
  {
   "cell_type": "code",
   "execution_count": 7,
   "id": "d5feeb99",
   "metadata": {},
   "outputs": [
    {
     "name": "stdout",
     "output_type": "stream",
     "text": [
      "n = 133  phi_n =  108\n",
      "65 and phi_n 108 are co-primes\n",
      "Public key : (e,n) (65,133)\n",
      "Private Key : d = 5.0\n",
      "For m=6 , c= 55\n",
      "6\n"
     ]
    }
   ],
   "source": [
    "def is_coprime(p,q):\n",
    "    while q != 0:\n",
    "        p, q = q, p%q\n",
    "    return p==1\n",
    "\n",
    "# QUICK EXERCISE 1\n",
    "p = 7\n",
    "q = 19\n",
    "# BEGIN SOLUTION\n",
    "n = p*q # 133\n",
    "phi_n = (p-1)*(q-1) #108\n",
    "print(\"n = \"+str(n),\" phi_n = \",str(phi_n))\n",
    "\n",
    "# Define e as a prime\n",
    "e=65\n",
    "if(is_coprime(e,phi_n)):\n",
    "    print(str(e)+\" and phi_n \"+str(phi_n)+\" are co-primes\")\n",
    "#calculate d using phi_n,e\n",
    "i = 1\n",
    "d=1 #5\n",
    "while(True):\n",
    "    if((phi_n*i+1)%(e)==0):\n",
    "        d= (phi_n*i+1)/(e)\n",
    "        break\n",
    "    i+=1\n",
    "print(\"Public key : (e,n) (\"+ str(e)+\",\"+str(n)+\")\")\n",
    "print(\"Private Key : d = \"+ str(d)) \n",
    "# Encrypt using public key\n",
    "m=6\n",
    "c = m**e%n # 55\n",
    "print(\"For m=\"+str(m)+\" , c= \"+str(c))\n",
    "# END SOLUTION\n",
    "\n",
    "m1= c**d%n\n",
    "print(m)"
   ]
  },
  {
   "cell_type": "markdown",
   "id": "f5419be0",
   "metadata": {},
   "source": [
    "# Calculate D "
   ]
  },
  {
   "cell_type": "code",
   "execution_count": 3,
   "id": "d17bc7f9",
   "metadata": {},
   "outputs": [
    {
     "name": "stdout",
     "output_type": "stream",
     "text": [
      "5.0\n"
     ]
    }
   ],
   "source": [
    "\n",
    "pn = 108\n",
    "e = 65\n",
    "i = 1\n",
    "d=1\n",
    "while(True):\n",
    "    if((pn*i+1)%(e)==0):\n",
    "        d= (pn*i+1)/(e)\n",
    "        print(d)\n",
    "        break\n",
    "    i+=1"
   ]
  },
  {
   "cell_type": "markdown",
   "id": "7637a080",
   "metadata": {},
   "source": [
    "# Cyphertext"
   ]
  },
  {
   "cell_type": "code",
   "execution_count": 5,
   "id": "223ca6d9",
   "metadata": {},
   "outputs": [
    {
     "name": "stdout",
     "output_type": "stream",
     "text": [
      "55\n"
     ]
    }
   ],
   "source": [
    "print(encrypt_cipher(6,65,133))"
   ]
  },
  {
   "cell_type": "code",
   "execution_count": 6,
   "id": "e57a0909",
   "metadata": {},
   "outputs": [
    {
     "name": "stdout",
     "output_type": "stream",
     "text": [
      "6\n"
     ]
    }
   ],
   "source": [
    "print(decrypt_cipher(55,5,133))"
   ]
  },
  {
   "cell_type": "markdown",
   "id": "5702c4f4",
   "metadata": {},
   "source": [
    "### Proof of RSA Public Key Encryption"
   ]
  },
  {
   "cell_type": "markdown",
   "id": "67a505cf",
   "metadata": {},
   "source": [
    "We _showed_ by numerical examples that a plaintext $m$ encrypted as $c = m^e \\mod n$ can be recovered through the decryption of the ciphertext as $m = c^d \\mod n$.\n",
    "\n",
    "How can we _prove_ that decryption always compute correctly so that $(m^e \\mod n)^d \\mod n = m$?\n"
   ]
  },
  {
   "cell_type": "markdown",
   "id": "3b4242e4",
   "metadata": {},
   "source": [
    "$(m^e \\mod n)^d \\mod n$\n",
    "\n",
    "> $= ((m^e)^d \\mod n) \\mod n$ as $ \\mod n$ operation can be done for partial results or for the final result.\n",
    "\n",
    "> $= (m^e)^d \\mod n$ as after the first $ \\mod n$ operation, the result would be the same for any number of modulo operations.\n",
    "\n",
    "> $= m^{ed} \\mod n$ as exponentiation of an exponentiation is the exponentiation by the multiplication of exponents.\n",
    "\n",
    "> $= m^{1 \\mod \\phi(n)} \\mod n$ as $d*e \\mod \\phi(n) = 1$.\n",
    "\n",
    "> $= m^{k \\phi(n) + 1} \\mod n$ for some integer $k$.\n",
    "\n",
    "> $= (m^{k \\phi(n)} m^1) \\mod n$ as exponentiation by additive exponents is the multiplication of exponentiations with individual components.\n",
    "\n",
    "> $= (m^{k \\phi(n)} \\mod n) (m \\mod n)$ as noted above for application of $ \\mod n$ operations.\n",
    "\n",
    "> $= (m^{{\\phi(n)}^k} \\mod n) (m \\mod n)$ as noted above for exponentiation of exponentiations.\n",
    "\n",
    "> $= (m^{\\phi(n)} \\mod n)^k (m \\mod n)$ as noted above for application of $ \\mod n$ operations.\n",
    "\n",
    "According to <font color=blue>__Fermat's Little Theorem__</font> \n",
    "\n",
    "$m^{\\phi(n)} \\mod n = 1$ when $m$ and $n$ are coprimes (that is, when they do not share any factors other than $1$).\n",
    "\n",
    "> $= (1)^k (m \\mod n)$ as factors of $n$ are the primes $p$ and $q$ with the __assumption__ that $m$ does not have these primes as it's factors.\n",
    "\n",
    "> $= m \\mod n$ as $1^k = 1$ for any integer $k$.\n",
    "\n",
    "> $= m$ as length $m$ of is selected so that $m < n$."
   ]
  },
  {
   "cell_type": "markdown",
   "id": "cc65de8b",
   "metadata": {},
   "source": [
    "### <font color=red>Quick Exercise 2</font>"
   ]
  },
  {
   "cell_type": "markdown",
   "id": "2bcca388",
   "metadata": {},
   "source": [
    "How can we ensure that the assumption $m$ does not have the primes $p$ and $q$ as it's factors remains true?\n",
    "\n",
    "_Make a note of your answers to these questions, as you will need to enter them as part of your CA quizzes._"
   ]
  },
  {
   "cell_type": "markdown",
   "id": "3ecf8690",
   "metadata": {},
   "source": [
    "Select m as a number less than min(p,q). Then m does not have p,q as its factors. \n",
    "Since n only have p and q as factors, there are no any common factors for m and n.\n",
    "Therefore m and n are co-primes."
   ]
  },
  {
   "cell_type": "markdown",
   "id": "60085d22",
   "metadata": {},
   "source": [
    "Since m and n are co-primes, they does not share any common factors.\n",
    "\n",
    "n = p x q. Therefore factors of n = 1,p,q\n",
    "\n",
    "let factors set of m = A = {m1,m2,...}\n",
    "\n",
    "since m and n are co-primes, p,q does not belongs to set A.\n",
    "\n",
    "Therefore m does not have p,q as it factors."
   ]
  },
  {
   "cell_type": "markdown",
   "id": "c12c9895",
   "metadata": {},
   "source": [
    "### Security of RSA Cryptosystem"
   ]
  },
  {
   "cell_type": "markdown",
   "id": "93c8ab8d",
   "metadata": {},
   "source": [
    "The security of RSA cryptosystem is based on the number theoretic problem called the __Integer Factorization Problem__.\n",
    "\n",
    "_For a given integer $n$ computed as the product of 2 distinct prime numbers $p$ and $q$, it is computationally intractable to find the factors $p$ and $q$ for sufficiantly large prime numbers._"
   ]
  },
  {
   "cell_type": "markdown",
   "id": "da15b89b",
   "metadata": {},
   "source": [
    "What would happen if and when integer factorization is computationally feasible?\n",
    "\n",
    "1. __If integer factorization is practical__, then for a given prime composite $n$, compute the factors $p$ and $q$ by factorizing $n$.\n",
    "2. Compute the Euler Totient Function value of $n$ as $\\phi(n) = (p-1)*(q-1)$.\n",
    "3. Compute the secret key $d$ such that $d*e \\mod \\phi(n) = 1$ using the public key value $e$."
   ]
  },
  {
   "cell_type": "markdown",
   "id": "549414b0",
   "metadata": {},
   "source": [
    "## RSA Digital Signature"
   ]
  },
  {
   "cell_type": "markdown",
   "id": "de8c80f5",
   "metadata": {},
   "source": [
    "There are 3 different algorithms for\n",
    "1. Key pair generation - this is the same as for RSA public key encryption\n",
    "2. Message signing\n",
    "3. Signature verification"
   ]
  },
  {
   "cell_type": "markdown",
   "id": "83e48261",
   "metadata": {},
   "source": [
    "### Message Signing"
   ]
  },
  {
   "cell_type": "markdown",
   "id": "2db06dc8",
   "metadata": {},
   "source": [
    "#### Message signing with message recovery\n",
    "This scheme is used when the message $M$ can be mapped directly to a number $m$ with $m < n$.\n",
    "\n",
    "Sign the mapped value $m$ with the secret key $d$ of the __signer__ by computing the signature $\\sigma$ as <font color=blue> $\\sigma = m^d \\mod n$</font>.\n",
    "\n",
    "The signed message is simply the signature $\\sigma$ only.\n"
   ]
  },
  {
   "cell_type": "markdown",
   "id": "d7c709f9",
   "metadata": {},
   "source": [
    "#### Message signing without message recovery\n",
    "Using a cryptographically secure hash function $H$, compute the hash value $h = H(M)$.\n",
    "\n",
    "Sign the hash value $h$ with the secret key $d$ of the __signer__ by computing the signature $\\sigma$ as <font color=blue> $\\sigma = h^d \\mod n$</font>.\n",
    "\n",
    "The signed message is the message and signature pair $(M,\\sigma)$.\n"
   ]
  },
  {
   "cell_type": "markdown",
   "id": "2a583768",
   "metadata": {},
   "source": [
    "### Signature Verification"
   ]
  },
  {
   "cell_type": "markdown",
   "id": "d3f6f4af",
   "metadata": {},
   "source": [
    "#### Verifying message signed for message recovery\n",
    "First check if the received signed message $\\sigma$ satisfies the condition $\\sigma < n$.\n",
    "\n",
    "Compute the recovered message $m'$ with the public key $(e,n)$ of the __verifier__ as <font color=blue>$m' = \\sigma^e \\mod n$</font>.\n",
    "\n",
    "The signature verifier must be capable of determining if the recovered message $m'$ is in fact the original signed message $m$."
   ]
  },
  {
   "cell_type": "markdown",
   "id": "4502e785",
   "metadata": {},
   "source": [
    "#### Verifying message-signature pair\n",
    "Assume that the verifier has received the signed message $(M',\\sigma)$.\n",
    "\n",
    "Using a cryptographically secure hash function $H$, compute the hash value $h' = H(M')$.\n",
    "\n",
    "Compute the value $h$ with the public key $(e,n)$ of the __verifier__ as <font color=blue>$h = \\sigma^e \\mod n$</font>.\n",
    "\n",
    "Finally, check the condition $h = h'$ and accept the signature as valid if true, else the signature is invalid."
   ]
  },
  {
   "cell_type": "markdown",
   "id": "13cef4fd",
   "metadata": {},
   "source": [
    "### Is RSA signing same as RSA decryption?"
   ]
  },
  {
   "cell_type": "markdown",
   "id": "d39d2bcf",
   "metadata": {},
   "source": [
    "There is a tendency to erroneously view RSA signing operation as applying the RSA decryption function to the plaintext message $m$ (and correspondingly, signature verification as RSA encryption of the ciphertext message $c$.\n",
    "\n",
    "This view is due to the use of <font color=blue>Textbook RSA</font> as described earlier.\n",
    "\n",
    "In practice, the signature generation uses a standard __PKCS#1__ that defines the parameters, algorithms, and encoding schemes used in the signature generation."
   ]
  },
  {
   "cell_type": "markdown",
   "id": "56e813c8",
   "metadata": {},
   "source": [
    "### <font color=red>Quick Exercise 3</font>"
   ]
  },
  {
   "cell_type": "markdown",
   "id": "423f1ed5",
   "metadata": {},
   "source": [
    "What is the <b>main reason</b> for using a standard scheme such as PKCS#1 rather than direct RSA computation?<p>\n",
    "<i>Make a note of your answers to these questions, as you will need to enter them as part of your CA quizzes.<i>"
   ]
  },
  {
   "cell_type": "markdown",
   "id": "b024033a",
   "metadata": {},
   "source": [
    "Using a standard scheme, it can make different application from different vendors work with each other by enabling secure information exchange via public communication methods by using a public key infrastructure."
   ]
  },
  {
   "cell_type": "code",
   "execution_count": null,
   "id": "c83b7a4a",
   "metadata": {},
   "outputs": [],
   "source": []
  }
 ],
 "metadata": {
  "kernelspec": {
   "display_name": "Python 3",
   "language": "python",
   "name": "python3"
  },
  "language_info": {
   "codemirror_mode": {
    "name": "ipython",
    "version": 3
   },
   "file_extension": ".py",
   "mimetype": "text/x-python",
   "name": "python",
   "nbconvert_exporter": "python",
   "pygments_lexer": "ipython3",
   "version": "3.8.8"
  }
 },
 "nbformat": 4,
 "nbformat_minor": 5
}
