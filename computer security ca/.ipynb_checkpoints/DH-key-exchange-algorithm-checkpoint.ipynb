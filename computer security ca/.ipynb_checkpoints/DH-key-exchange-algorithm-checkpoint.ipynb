{
 "cells": [
  {
   "cell_type": "markdown",
   "id": "8b0ecf94",
   "metadata": {},
   "source": [
    "# Diffie-Hellman Key Exchange Algorithm"
   ]
  },
  {
   "cell_type": "markdown",
   "id": "2a6acaf8",
   "metadata": {},
   "source": [
    "Diffie-Hellman (DH) is a commonly used public key cryptosystem for two parties to generate a shared secret key using only publicly shared information.\n",
    "\n",
    "It was invented in 1976 by Whitfield __Diffie__ and Martin __Hellman__.\n",
    "\n",
    "The security of the DH scheme is based on the difficulty of computing discrete logarithms."
   ]
  },
  {
   "cell_type": "markdown",
   "id": "d51d3439",
   "metadata": {},
   "source": [
    "The scheme has 4 parts\n",
    "1. Defining public parameters of the scheme\n",
    "2. Key pair generation\n",
    "3. Exchange of public keys\n",
    "4. Computation of shared secret key"
   ]
  },
  {
   "cell_type": "markdown",
   "id": "13116e26",
   "metadata": {},
   "source": [
    "## Defining Public Parameters"
   ]
  },
  {
   "cell_type": "markdown",
   "id": "4ad42a60",
   "metadata": {},
   "source": [
    "(1) Define a <font color=red>multiplicative group of integers modulo $p$</font>, for a large prime $p$.\n",
    "\n",
    "> In modular arithmetic, the set of non-negative integers coprime to the integer $n$ from the set of integers $\\{0, 1, 2, \\ldots, n-1\\}$ form a __group__ under the arithmetic operation multiplication modulo $n$.\n",
    "\n",
    "> This is called the _multiplicative group of integers modulo $n$_.\n",
    "\n",
    "> If the modulus $n$ is a prime number, then the multiplicative group of integers modulo $n$ consists of the full set of integers $\\{0, 1, 2, \\ldots, n-1\\}$.\n",
    "\n",
    "> The integers in this set are also called __residues modulo $n$__."
   ]
  },
  {
   "cell_type": "markdown",
   "id": "810b2a9d",
   "metadata": {},
   "source": [
    "(2) Define $g$, which is a <font color=red>primitive root modulo $p$</font>.\n",
    "\n",
    "> In modular arithmetic, an integer $g$ is a primitive root modulo $n$ if it satisfies the congruence $a_i \\equiv g^i \\mod n$ for some integer value $i$ for every integer $a_i$ coprime to $n$.\n",
    "\n",
    "> This integer value $i$ is called the <font color-blue>__index__</font> or the __discrete logarithm of $a_i$ to the base $g$ modulo $n$__.\n",
    "\n",
    "> If the modulus $n$ is a prime number, then there will be $n-1$ index values $i = 1,2,\\ldots,n-1$ that _generates_ the set of values $\\{1,2,\\ldots,n-1\\}$ in some order by the congruence $g^i \\mod n$.\n",
    "\n",
    "> Note that the value $0$ cannot be generated through exponentiation modulo a number and $g^0 \\mod n$ is always equal to $1$.\n",
    "\n",
    "> The integer $g$ is called a __generator__ of the multiplicative group of integers modulo $n$."
   ]
  },
  {
   "cell_type": "code",
   "execution_count": 24,
   "id": "bedbb4c4",
   "metadata": {},
   "outputs": [],
   "source": [
    "def is_coprime(p,q):\n",
    "    while q != 0:\n",
    "        p, q = q, p%q\n",
    "    return p==1\n",
    "\n",
    "def find_G(n):\n",
    "    co_prime=[]\n",
    "    for x in range(1,n):\n",
    "        if(gcd(x,n)):\n",
    "            co_prime.append(x)\n",
    "    primes_set = set(co_prime)\n",
    "    g=1\n",
    "    count=0\n",
    "    while(count<5):\n",
    "        temp = []\n",
    "        for i in range(1,n):\n",
    "            temp.append((g**i) % n)\n",
    "        final_set = set(temp)\n",
    "        if(primes_set==fin):\n",
    "            print(\"co_primes=\",fin)\n",
    "            print(\"g=\",g)\n",
    "            count+=1\n",
    "        g+=1\n",
    "        "
   ]
  },
  {
   "cell_type": "code",
   "execution_count": 25,
   "id": "8e6ef336",
   "metadata": {},
   "outputs": [
    {
     "name": "stdout",
     "output_type": "stream",
     "text": [
      "1 5\n",
      "2 1\n",
      "3 5\n",
      "4 1\n"
     ]
    }
   ],
   "source": [
    "# Let n be the modulus\n",
    "n = 6\n",
    "# Let g be the generator\n",
    "g = 5\n",
    "for i in range(1,5):\n",
    "    print(i,g**i % n)"
   ]
  },
  {
   "cell_type": "code",
   "execution_count": 33,
   "id": "71a18462",
   "metadata": {},
   "outputs": [
    {
     "name": "stdout",
     "output_type": "stream",
     "text": [
      "co_primes= {1, 2, 3, 4, 5, 6, 8, 9, 10, 11, 12, 13, 15, 16, 17, 18, 19, 20, 22, 23, 24, 25, 26, 27, 29, 30, 31, 32, 33, 34, 36, 37, 38, 39, 40, 41, 43, 44, 45, 46, 47, 48}\n",
      "g= 3\n",
      "co_primes= {1, 2, 3, 4, 5, 6, 8, 9, 10, 11, 12, 13, 15, 16, 17, 18, 19, 20, 22, 23, 24, 25, 26, 27, 29, 30, 31, 32, 33, 34, 36, 37, 38, 39, 40, 41, 43, 44, 45, 46, 47, 48}\n",
      "g= 5\n",
      "co_primes= {1, 2, 3, 4, 5, 6, 8, 9, 10, 11, 12, 13, 15, 16, 17, 18, 19, 20, 22, 23, 24, 25, 26, 27, 29, 30, 31, 32, 33, 34, 36, 37, 38, 39, 40, 41, 43, 44, 45, 46, 47, 48}\n",
      "g= 10\n",
      "co_primes= {1, 2, 3, 4, 5, 6, 8, 9, 10, 11, 12, 13, 15, 16, 17, 18, 19, 20, 22, 23, 24, 25, 26, 27, 29, 30, 31, 32, 33, 34, 36, 37, 38, 39, 40, 41, 43, 44, 45, 46, 47, 48}\n",
      "g= 12\n",
      "co_primes= {1, 2, 3, 4, 5, 6, 8, 9, 10, 11, 12, 13, 15, 16, 17, 18, 19, 20, 22, 23, 24, 25, 26, 27, 29, 30, 31, 32, 33, 34, 36, 37, 38, 39, 40, 41, 43, 44, 45, 46, 47, 48}\n",
      "g= 17\n"
     ]
    }
   ],
   "source": [
    "find_G(49)"
   ]
  },
  {
   "cell_type": "code",
   "execution_count": 27,
   "id": "abd01249",
   "metadata": {},
   "outputs": [
    {
     "name": "stdout",
     "output_type": "stream",
     "text": [
      "[1, 5]\n"
     ]
    }
   ],
   "source": [
    "n=6\n",
    "c=[]\n",
    "for x in range(1,n):\n",
    "    if(is_coprime(x,n)):\n",
    "        c.append(x)\n",
    "print(c)"
   ]
  },
  {
   "cell_type": "markdown",
   "id": "2148e9b1",
   "metadata": {},
   "source": [
    "### <font color=red>Quick Exercise 1</font>"
   ]
  },
  {
   "cell_type": "markdown",
   "id": "27081ee4",
   "metadata": {},
   "source": [
    "Define a generator for the multiplicative group of integers modulo $n$\n",
    "1. $n = 5$\n",
    "2. $n = 6$\n",
    "\n",
    "_Make a note of your answers to these questions, as you will need to enter them as part of your CA quizzes._"
   ]
  },
  {
   "cell_type": "code",
   "execution_count": 23,
   "id": "bfcefd20",
   "metadata": {},
   "outputs": [
    {
     "name": "stdout",
     "output_type": "stream",
     "text": [
      "1 2\n",
      "2 4\n",
      "3 3\n",
      "4 1\n",
      "\n",
      "1 5\n",
      "2 1\n"
     ]
    }
   ],
   "source": [
    "# QUICK EXERCISE 1\n",
    "n = 5\n",
    "# BEGIN SOLUTION\n",
    "# Let g be the generator\n",
    "g = 2\n",
    "for i in range(1,5):\n",
    "    print(i,g**i % n)\n",
    "print()\n",
    "# END SOLUTION\n",
    "\n",
    "n = 6\n",
    "# BEGIN SOLUTION\n",
    "# Let g be the generator\n",
    "g = 5\n",
    "for i in range(1,3):\n",
    "    print(i,g**i % n)\n",
    "# END SOLUTION"
   ]
  },
  {
   "cell_type": "markdown",
   "id": "61318555",
   "metadata": {},
   "source": [
    "## Key Pair Generation"
   ]
  },
  {
   "cell_type": "markdown",
   "id": "653263f8",
   "metadata": {},
   "source": [
    "Let the DH key exchange protocol execute between two parties __A__lice and __B__ob.\n",
    "\n",
    "> Let Alice and Bob agree on a multiplicative group of integers modulo $p$ where $p$ is a large prime modulus and $g$ a generator of the group.\n",
    "\n",
    "> Let Alice choose at random a secret integer <font color=red>$a$</font> from the multiplicative group of integers modulo $p$ and compute the value <font color=blue>$A = g^a \\mod p$</font>.\n",
    "\n",
    "> The secret key of Alice is $a$ and the public key is $A$.\n",
    "\n",
    "> Similalry, Bob will choose at random a secret integer <font color=red>$b$</font> and compute the value <font color=blue>$B = g^b \\mod p$</font>.\n",
    "\n",
    "> The secret key of Bob is $b$ and the public key is $B$."
   ]
  },
  {
   "cell_type": "markdown",
   "id": "088578ae",
   "metadata": {},
   "source": [
    "## Exchange of Public Keys"
   ]
  },
  {
   "cell_type": "markdown",
   "id": "2ec8004a",
   "metadata": {},
   "source": [
    "Alice and Bob must have a secure method of exchanging their public keys ensuring the authenticity of received public keys.\n",
    "\n",
    "For example, participants may\n",
    "1. Use a trusted public key server\n",
    "2. Individually exchange public keys\n",
    "3. Use digital certificates"
   ]
  },
  {
   "cell_type": "markdown",
   "id": "179bd154",
   "metadata": {},
   "source": [
    "## Shared Secret Key Generation"
   ]
  },
  {
   "cell_type": "markdown",
   "id": "3a9841db",
   "metadata": {},
   "source": [
    "Alice will compute the shared secret key $k$ as $B^a \\mod p$ using her secret key and Bob's public key $B$.\n",
    "\n",
    "$k = B^a \\mod p$\n",
    "> $= (g^b \\mod p)^a \\mod p$\n",
    "\n",
    "> $= (g^b)^a \\mod p \\mod p$\n",
    "\n",
    "> $= g^{ba} \\mod p$\n",
    "\n",
    "Similarly, Bob will compute the shared secret key $k$ as $A^b \\mod p$ using his secret key and Alice's public key $A$.\n",
    "\n",
    "$k = A^b \\mod p$\n",
    "> $= (g^a \\mod p)^b \\mod p$\n",
    "\n",
    "> $= (g^a)^b \\mod p \\mod p$\n",
    "\n",
    "> $= g^{ab} \\mod p$"
   ]
  },
  {
   "cell_type": "code",
   "execution_count": 9,
   "id": "593c50e7",
   "metadata": {},
   "outputs": [
    {
     "name": "stdout",
     "output_type": "stream",
     "text": [
      "Example DH Key Generation\n",
      "-------------------------\n",
      "shared secret key computed by Alice is 2\n",
      "shared secret key computed by Bob is 2\n"
     ]
    }
   ],
   "source": [
    "print(\"Example DH Key Generation\")\n",
    "print(\"-------------------------\")\n",
    "p = 23\n",
    "g = 5\n",
    "a = 6\n",
    "b = 15\n",
    "A = g**a % p\n",
    "B = g**b % p\n",
    "ka = B**a % p\n",
    "kb = A**b % p\n",
    "print(\"shared secret key computed by Alice is\",ka)\n",
    "print(\"shared secret key computed by Bob is\",kb)"
   ]
  },
  {
   "cell_type": "markdown",
   "id": "3719dfd4",
   "metadata": {},
   "source": [
    "### <font color=red>Quick Exercise 2</font>"
   ]
  },
  {
   "cell_type": "markdown",
   "id": "a59a457f",
   "metadata": {},
   "source": [
    "Three parties, Alice, Bob and Charlie, share the public paramters prime modulus $p$ and generator $g$ for the multiplicative group of integers modulo $p$.\n",
    "\n",
    "Also, they already share the public keys of each other, $A = g^a \\mod p$, $B = g^b \\mod p$ and $C = g^c \\mod p$, where $a$, $b$ and $c$ are the secret keys of the three parties, respectively.\n",
    "\n",
    "Using only a public communication channel, describe a protocol for the three parties to compute a _single_ shared secret.\n",
    "\n",
    "_Make a note of your answers to these questions, as you will need to enter them as part of your CA quizzes._"
   ]
  },
  {
   "cell_type": "markdown",
   "id": "19f9f3be",
   "metadata": {},
   "source": [
    "Alice\n",
    "\n",
    "private key = a\n",
    "\n",
    "public key\n"
   ]
  }
 ],
 "metadata": {
  "kernelspec": {
   "display_name": "Python 3",
   "language": "python",
   "name": "python3"
  },
  "language_info": {
   "codemirror_mode": {
    "name": "ipython",
    "version": 3
   },
   "file_extension": ".py",
   "mimetype": "text/x-python",
   "name": "python",
   "nbconvert_exporter": "python",
   "pygments_lexer": "ipython3",
   "version": "3.8.8"
  }
 },
 "nbformat": 4,
 "nbformat_minor": 5
}
