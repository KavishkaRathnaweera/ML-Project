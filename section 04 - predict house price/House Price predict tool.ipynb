{
 "cells": [
  {
   "cell_type": "code",
   "execution_count": 19,
   "id": "600310c7",
   "metadata": {},
   "outputs": [],
   "source": [
    "from sklearn.datasets import load_boston\n",
    "from sklearn.model_selection import train_test_split\n",
    "from sklearn.linear_model import LinearRegression\n",
    "from sklearn.metrics import mean_squared_error\n",
    "import pandas as pd\n",
    "import numpy as np\n",
    "\n"
   ]
  },
  {
   "cell_type": "code",
   "execution_count": 20,
   "id": "96b7b955",
   "metadata": {},
   "outputs": [
    {
     "data": {
      "text/plain": [
       "array(['CRIM', 'ZN', 'INDUS', 'CHAS', 'NOX', 'RM', 'AGE', 'DIS', 'RAD',\n",
       "       'TAX', 'PTRATIO', 'B', 'LSTAT'], dtype='<U7')"
      ]
     },
     "execution_count": 20,
     "metadata": {},
     "output_type": "execute_result"
    }
   ],
   "source": [
    "# Gather data\n",
    "boston_dataset = load_boston()\n",
    "data = pd.DataFrame(data=boston_dataset.data,columns=boston_dataset.feature_names)\n",
    "data['PRICE'] = boston_dataset.target\n",
    "\n",
    "prices = np.log(data['PRICE'])\n",
    "features = data.drop(['PRICE','INDUS','AGE'],axis=1)\n",
    "target = pd.DataFrame(data=prices,columns=['PRICE'])\n",
    "boston_dataset.feature_names"
   ]
  },
  {
   "cell_type": "code",
   "execution_count": 21,
   "id": "bdb1973c",
   "metadata": {},
   "outputs": [],
   "source": [
    "# now try to get some values to all features. since we dont know any values, take mean values of all feature samples in dataset.\n",
    "# if we can find values for anywhere, it it better.\n",
    "property_stats = np.zeros(shape=(1,11))\n",
    "\n",
    "property_stats = features.mean().values.reshape(1,11)\n",
    "\n",
    "#X_train,X_test, y_train,y_test = train_test_split(features,prices,test_size=0.2,random_state=10)"
   ]
  },
  {
   "cell_type": "code",
   "execution_count": 22,
   "id": "35e9b9e4",
   "metadata": {},
   "outputs": [],
   "source": [
    "regr = LinearRegression().fit(X=features,y=target)\n",
    "predict_values = regr.predict(features)\n",
    "\n",
    "#mse and rmse\n",
    "mse_predicts = mean_squared_error(target,predict_values)\n",
    "rmse_predicts = np.sqrt(mse_predicts)"
   ]
  },
  {
   "cell_type": "code",
   "execution_count": 23,
   "id": "7fbeec9b",
   "metadata": {},
   "outputs": [],
   "source": [
    "def get_house_price(rooms,studet_per_class,next_river=False,high_confidence=True):\n",
    "    \n",
    "    if(rooms==0 or studet_per_class<1):\n",
    "        return 'Invalid values'\n",
    "    \n",
    "    \"\"\"\n",
    "    Description of function\n",
    "    rooms -- number of rooms : int\n",
    "    studet_per_class : int\n",
    "    high_confidence -- range of values\n",
    "    \n",
    "    \"\"\"\n",
    "    \n",
    "    property_stats[0][5] = rooms\n",
    "    property_stats[0][10] = studet_per_class\n",
    "    if(next_river):\n",
    "        property_stats[0][3] = 1\n",
    "    else:\n",
    "        property_stats[0][3]=0\n",
    "        \n",
    "    predict_y = regr.predict(property_stats)\n",
    "    upperBound=0\n",
    "    lowerBound=0\n",
    "    interval=0\n",
    "    if(high_confidence):\n",
    "        upperBound = predict_y + 2*rmse_predicts\n",
    "        lowerBound = predict_y - 2*rmse_predicts\n",
    "        interval=95\n",
    "    else:\n",
    "        upperbound = predict_y + rmse_predicts\n",
    "        lowerBound = predict_y - rmse_predicts\n",
    "        interval=68\n",
    "        \n",
    "    return predict_y[0][0],upperBound[0][0],lowerBound[0][0],interval\n",
    "    "
   ]
  },
  {
   "cell_type": "code",
   "execution_count": 24,
   "id": "a744a651",
   "metadata": {},
   "outputs": [
    {
     "name": "stdout",
     "output_type": "stream",
     "text": [
      "(2.440662381876166, 2.8156866522704265, 2.0656381114819053, 95)\n",
      "Invalid values\n"
     ]
    }
   ],
   "source": [
    "pred_result_1 = get_house_price(5,20,True)\n",
    "print(pred_result_1)\n",
    "\n",
    "pred_result_2 = get_house_price(5,-10,True)\n",
    "print(pred_result_2)"
   ]
  },
  {
   "cell_type": "code",
   "execution_count": 29,
   "id": "31043e55",
   "metadata": {},
   "outputs": [],
   "source": [
    "import house_price as hp"
   ]
  },
  {
   "cell_type": "code",
   "execution_count": 30,
   "id": "7f893dd6",
   "metadata": {},
   "outputs": [
    {
     "data": {
      "text/plain": [
       "(2.440662381876166, 2.8156866522704265, 2.0656381114819053, 95)"
      ]
     },
     "execution_count": 30,
     "metadata": {},
     "output_type": "execute_result"
    }
   ],
   "source": [
    "hp.get_house_price(5,20,True)"
   ]
  },
  {
   "cell_type": "code",
   "execution_count": null,
   "id": "33545128",
   "metadata": {},
   "outputs": [],
   "source": []
  },
  {
   "cell_type": "code",
   "execution_count": null,
   "id": "8d82e1f2",
   "metadata": {},
   "outputs": [],
   "source": []
  },
  {
   "cell_type": "code",
   "execution_count": null,
   "id": "2fae0d1c",
   "metadata": {},
   "outputs": [],
   "source": []
  }
 ],
 "metadata": {
  "kernelspec": {
   "display_name": "Python 3",
   "language": "python",
   "name": "python3"
  },
  "language_info": {
   "codemirror_mode": {
    "name": "ipython",
    "version": 3
   },
   "file_extension": ".py",
   "mimetype": "text/x-python",
   "name": "python",
   "nbconvert_exporter": "python",
   "pygments_lexer": "ipython3",
   "version": "3.8.8"
  }
 },
 "nbformat": 4,
 "nbformat_minor": 5
}
