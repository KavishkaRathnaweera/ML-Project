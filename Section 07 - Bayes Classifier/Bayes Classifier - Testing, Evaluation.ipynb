{
 "cells": [
  {
   "cell_type": "markdown",
   "id": "457be6bc",
   "metadata": {},
   "source": [
    "# Notebook Imports"
   ]
  },
  {
   "cell_type": "code",
   "execution_count": 2,
   "id": "0f98bd03",
   "metadata": {},
   "outputs": [],
   "source": [
    "import numpy as np\n",
    "import pandas as pd\n",
    "import matplotlib.pyplot as plt\n",
    "import seaborn as sns"
   ]
  },
  {
   "cell_type": "code",
   "execution_count": 3,
   "id": "eff8a0e1",
   "metadata": {},
   "outputs": [],
   "source": [
    "TOKEN_SPAM_PROB_FILE = 'token_spam_probs.txt'\n",
    "TOKEN_HAM_PROB_FILE = 'token_ham_probs.txt'\n",
    "TOKEN_ALL_PROB_FILE = 'token_all_probs.txt'\n",
    "\n",
    "TEST_FEATURE_MATRIX = \"test_feature.txt\"\n",
    "TEST_TARGET_FILE = \"test_target.txt\"\n",
    "\n",
    "VOCAB_SIZE = 2500"
   ]
  },
  {
   "cell_type": "markdown",
   "id": "0af2fa1e",
   "metadata": {},
   "source": [
    "# Load the data"
   ]
  },
  {
   "cell_type": "code",
   "execution_count": 5,
   "id": "3a3508c8",
   "metadata": {},
   "outputs": [],
   "source": [
    "# Features\n",
    "X_test = np.loadtxt(TEST_FEATURE_MATRIX,delimiter=\" \")\n",
    "# Target\n",
    "y_test = np.loadtxt(TEST_TARGET_FILE,delimiter=\" \")\n",
    "# Token Probabilities\n",
    "prob_token_spam = np.loadtxt(TOKEN_SPAM_PROB_FILE,delimiter=\" \")\n",
    "prob_token_ham = np.loadtxt(TOKEN_HAM_PROB_FILE,delimiter=\" \")\n",
    "prob_token_all = np.loadtxt(TOKEN_ALL_PROB_FILE,delimiter=\" \")"
   ]
  },
  {
   "cell_type": "markdown",
   "id": "1bbcdd96",
   "metadata": {},
   "source": [
    "# Set Priors"
   ]
  },
  {
   "cell_type": "code",
   "execution_count": 8,
   "id": "c59c3f40",
   "metadata": {},
   "outputs": [],
   "source": [
    "PROB_SPAM = 0.31099"
   ]
  },
  {
   "cell_type": "code",
   "execution_count": 9,
   "id": "3f7c3de7",
   "metadata": {},
   "outputs": [
    {
     "data": {
      "text/plain": [
       "array([ -4.40764227,  -5.25371708,  -4.99011951, ...,  -9.14982463,\n",
       "        -9.79167851, -10.01482206])"
      ]
     },
     "execution_count": 9,
     "metadata": {},
     "output_type": "execute_result"
    }
   ],
   "source": [
    "np.log(prob_token_spam)"
   ]
  },
  {
   "cell_type": "markdown",
   "id": "03ab8165",
   "metadata": {},
   "source": [
    "# Joint probability in log format"
   ]
  },
  {
   "cell_type": "code",
   "execution_count": 10,
   "id": "dde5c217",
   "metadata": {},
   "outputs": [],
   "source": [
    "joint_log_spam = X_test.dot(np.log(prob_token_spam) - np.log(prob_token_all)) + np.log(PROB_SPAM)"
   ]
  },
  {
   "cell_type": "code",
   "execution_count": 11,
   "id": "c41f3f52",
   "metadata": {},
   "outputs": [
    {
     "data": {
      "text/plain": [
       "array([  24.27468657,    2.15954827,   20.58908605, ..., -374.67320424,\n",
       "         -9.90428028, -112.02485163])"
      ]
     },
     "execution_count": 11,
     "metadata": {},
     "output_type": "execute_result"
    }
   ],
   "source": [
    "joint_log_spam"
   ]
  },
  {
   "cell_type": "code",
   "execution_count": 14,
   "id": "6ae47605",
   "metadata": {},
   "outputs": [
    {
     "data": {
      "text/plain": [
       "1724"
      ]
     },
     "execution_count": 14,
     "metadata": {},
     "output_type": "execute_result"
    }
   ],
   "source": [
    "joint_log_ham = X_test.dot(np.log(prob_token_ham) - np.log(prob_token_all)) + np.log(1-PROB_SPAM)\n",
    "joint_log_ham.size"
   ]
  },
  {
   "cell_type": "code",
   "execution_count": null,
   "id": "8431b504",
   "metadata": {},
   "outputs": [],
   "source": []
  }
 ],
 "metadata": {
  "kernelspec": {
   "display_name": "Python 3",
   "language": "python",
   "name": "python3"
  },
  "language_info": {
   "codemirror_mode": {
    "name": "ipython",
    "version": 3
   },
   "file_extension": ".py",
   "mimetype": "text/x-python",
   "name": "python",
   "nbconvert_exporter": "python",
   "pygments_lexer": "ipython3",
   "version": "3.8.8"
  }
 },
 "nbformat": 4,
 "nbformat_minor": 5
}
